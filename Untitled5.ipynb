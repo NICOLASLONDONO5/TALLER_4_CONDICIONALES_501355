{
  "nbformat": 4,
  "nbformat_minor": 0,
  "metadata": {
    "colab": {
      "provenance": [],
      "authorship_tag": "ABX9TyO3PzQ94Qbr42TDjVjuFnDf",
      "include_colab_link": true
    },
    "kernelspec": {
      "name": "python3",
      "display_name": "Python 3"
    },
    "language_info": {
      "name": "python"
    }
  },
  "cells": [
    {
      "cell_type": "markdown",
      "metadata": {
        "id": "view-in-github",
        "colab_type": "text"
      },
      "source": [
        "<a href=\"https://colab.research.google.com/github/NICOLASLONDONO5/TALLER_4_CONDICIONALES_501355/blob/main/Untitled5.ipynb\" target=\"_parent\"><img src=\"https://colab.research.google.com/assets/colab-badge.svg\" alt=\"Open In Colab\"/></a>"
      ]
    },
    {
      "cell_type": "markdown",
      "source": [
        "TALLER N° 4\n",
        "NOMBRES: NICOLAS LONDOÑO CALLE\n",
        "ID:501355                "
      ],
      "metadata": {
        "id": "P9KC821piAl1"
      }
    },
    {
      "cell_type": "markdown",
      "source": [
        "1. CALCULADORA DE CALIFICACIONES"
      ],
      "metadata": {
        "id": "ny8eESySo65e"
      }
    },
    {
      "cell_type": "code",
      "source": [
        "calificacion = float(input(\"Ingrese una calificación numérica (de 0 a 10): \"))\n",
        "\n",
        "if calificacion >= 6:\n",
        "    print(\"El estudiante aprobó.\")\n",
        "else:\n",
        "    print(\"El estudiante reprobó.\")\n",
        "\n"
      ],
      "metadata": {
        "colab": {
          "base_uri": "https://localhost:8080/"
        },
        "id": "NYM56joBlsIc",
        "outputId": "db6f7ff1-0e30-4ab5-f6da-4908468f5127"
      },
      "execution_count": 14,
      "outputs": [
        {
          "output_type": "stream",
          "name": "stdout",
          "text": [
            "Ingrese una calificación numérica (de 0 a 10): 4\n",
            "El estudiante reprobó.\n"
          ]
        }
      ]
    },
    {
      "cell_type": "markdown",
      "source": [
        "2. VERIFICAR SI UN NUMERO ES POSITIVO, NEGATIVO O CERO"
      ],
      "metadata": {
        "id": "AjSOYbeRpL3n"
      }
    },
    {
      "cell_type": "code",
      "source": [
        "numero = float(input(\"Ingrese un número: \"))\n",
        "\n",
        "if numero > 0:\n",
        "    print(\"El número es positivo.\")\n",
        "elif numero < 0:\n",
        "    print(\"El número es negativo.\")\n",
        "else:\n",
        "    print(\"El número es cero.\")\n"
      ],
      "metadata": {
        "colab": {
          "base_uri": "https://localhost:8080/"
        },
        "id": "5Tw5h-hkmTiK",
        "outputId": "769c2c3e-c644-4b25-b0cc-251892558466"
      },
      "execution_count": 12,
      "outputs": [
        {
          "output_type": "stream",
          "name": "stdout",
          "text": [
            "Ingrese un número: 4\n",
            "El número es positivo.\n"
          ]
        }
      ]
    },
    {
      "cell_type": "markdown",
      "source": [
        "3. VALIDACION DE CONTRASEÑA"
      ],
      "metadata": {
        "id": "lvNtmX2TpVXx"
      }
    },
    {
      "cell_type": "code",
      "source": [
        "contrasena = input(\"Ingrese una contraseña: \")\n",
        "\n",
        "if contrasena == \"ANUEL710\":\n",
        "    print(\"Contraseña válida.\")\n",
        "else:\n",
        "    print(\"Contraseña incorrecta.\")\n"
      ],
      "metadata": {
        "colab": {
          "base_uri": "https://localhost:8080/"
        },
        "id": "ZhZbx4QameqT",
        "outputId": "2d0aefb6-0dcd-4ad3-b9b6-5b5f412ab5a6"
      },
      "execution_count": 16,
      "outputs": [
        {
          "output_type": "stream",
          "name": "stdout",
          "text": [
            "Ingrese una contraseña: ANUEL710\n",
            "Contraseña válida.\n"
          ]
        }
      ]
    },
    {
      "cell_type": "markdown",
      "source": [
        "4. DETERMINAR SI UN NUMERO ES PAR O IMPAR"
      ],
      "metadata": {
        "id": "9jP_yi8apbwS"
      }
    },
    {
      "cell_type": "code",
      "source": [
        "numero = int(input(\"Ingrese un número: \"))\n",
        "\n",
        "if numero % 2 == 0:\n",
        "    print(\"El número es par.\")\n",
        "else:\n",
        "    print(\"El número es impar.\")\n"
      ],
      "metadata": {
        "colab": {
          "base_uri": "https://localhost:8080/"
        },
        "id": "JcnN5xb3nT09",
        "outputId": "2c9c1911-78c7-4006-e385-575a9fdeb0c4"
      },
      "execution_count": 17,
      "outputs": [
        {
          "output_type": "stream",
          "name": "stdout",
          "text": [
            "Ingrese un número: 3\n",
            "El número es impar.\n"
          ]
        }
      ]
    },
    {
      "cell_type": "markdown",
      "source": [
        "5. DETRMINAR EL NUMERO MAYOR"
      ],
      "metadata": {
        "id": "g6FiKC9JpkUu"
      }
    },
    {
      "cell_type": "code",
      "source": [
        "numeros = []\n",
        "\n",
        "for i in range(5):\n",
        "    numero = float(input(\"Ingrese un número: \"))\n",
        "    numeros.append(numero)\n",
        "\n",
        "numero_mayor = max(numeros)\n",
        "print(\"El número mayor es:\", numero_mayor)\n"
      ],
      "metadata": {
        "colab": {
          "base_uri": "https://localhost:8080/"
        },
        "id": "0B6GRbZAnbDP",
        "outputId": "3facebe1-d6b5-4225-c33a-3bddbd980a9a"
      },
      "execution_count": 19,
      "outputs": [
        {
          "output_type": "stream",
          "name": "stdout",
          "text": [
            "Ingrese un número: 5\n",
            "Ingrese un número: 3\n",
            "Ingrese un número: 2\n",
            "Ingrese un número: 4\n",
            "Ingrese un número: 1\n",
            "El número mayor es: 5.0\n"
          ]
        }
      ]
    },
    {
      "cell_type": "markdown",
      "source": [
        "6. CATEGORIZAR EDADES"
      ],
      "metadata": {
        "id": "hPjlK2a9pqtW"
      }
    },
    {
      "cell_type": "code",
      "source": [
        "edad = int(input(\"Ingrese la edad: \"))\n",
        "\n",
        "if edad >= 0 and edad <= 12:\n",
        "    print(\"Niño\")\n",
        "elif edad >= 13 and edad <= 19:\n",
        "    print(\"Adolescente\")\n",
        "elif edad >= 20 and edad <= 64:\n",
        "    print(\"Adulto\")\n",
        "else:\n",
        "    print(\"Adulto Mayor\")\n",
        "\n"
      ],
      "metadata": {
        "colab": {
          "base_uri": "https://localhost:8080/"
        },
        "id": "Hy1tTzhAofYo",
        "outputId": "4dbbe9e8-e836-4404-8d95-d8bce783eba9"
      },
      "execution_count": 21,
      "outputs": [
        {
          "output_type": "stream",
          "name": "stdout",
          "text": [
            "Ingrese la edad: 14\n",
            "Adolescente\n"
          ]
        }
      ]
    }
  ]
}